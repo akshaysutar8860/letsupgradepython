{
  "nbformat": 4,
  "nbformat_minor": 0,
  "metadata": {
    "colab": {
      "name": "pythonday6.ipynb",
      "provenance": []
    },
    "kernelspec": {
      "name": "python3",
      "display_name": "Python 3"
    },
    "language_info": {
      "name": "python"
    }
  },
  "cells": [
    {
      "cell_type": "code",
      "execution_count": 1,
      "metadata": {
        "id": "ykAEtK44xINF"
      },
      "outputs": [],
      "source": [
        "def decorators(fun):\n",
        "\tdef deno(num1, num2):\n",
        "\t\tif num1 < num2 :\n",
        "\t\t\tnum1, num2 = num2, num1\n",
        "\t\treturn fun(num1, num2)\n",
        "\treturn deno"
      ]
    },
    {
      "cell_type": "code",
      "source": [
        "@decorators\n",
        "def div(num1, num2):\n",
        "\treturn  num1 // num2\n"
      ],
      "metadata": {
        "id": "mW0exuSdx8xB"
      },
      "execution_count": 2,
      "outputs": []
    },
    {
      "cell_type": "code",
      "source": [
        "num1 =int(input(\"Enter two Nunbers: \"))\n",
        "num2 =int(input(\"Enter two Nunbers: \"))\n",
        "print(num1,num2)\n",
        "\n",
        "\n",
        "print(div(num1, num2))"
      ],
      "metadata": {
        "colab": {
          "base_uri": "https://localhost:8080/"
        },
        "id": "Kmzwc9lax9i-",
        "outputId": "220d2ba5-a451-4643-ad3b-01e7ef824ca9"
      },
      "execution_count": 5,
      "outputs": [
        {
          "output_type": "stream",
          "name": "stdout",
          "text": [
            "Enter two Nunbers: 16\n",
            "Enter two Nunbers: 8\n",
            "16 8\n",
            "2\n"
          ]
        }
      ]
    }
  ]
}