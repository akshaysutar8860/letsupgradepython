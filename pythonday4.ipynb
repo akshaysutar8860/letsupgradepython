{
  "nbformat": 4,
  "nbformat_minor": 0,
  "metadata": {
    "colab": {
      "name": "pythonday4.ipynb",
      "provenance": []
    },
    "kernelspec": {
      "name": "python3",
      "display_name": "Python 3"
    },
    "language_info": {
      "name": "python"
    }
  },
  "cells": [
    {
      "cell_type": "code",
      "source": [
        "def factorial(n):\n",
        "  fact=1\n",
        "  if int(n) >=1:\n",
        "    for i in range(1,n+1):\n",
        "      fact=fact*i\n",
        "    return fact  \n"
      ],
      "metadata": {
        "id": "czlBEY1VwmPm"
      },
      "execution_count": 30,
      "outputs": []
    },
    {
      "cell_type": "code",
      "source": [
        "num=input(\"enter a number\")\n",
        "print(\"The factorial of given number is\"+str(factorial(3)))\n",
        "\n",
        " "
      ],
      "metadata": {
        "colab": {
          "base_uri": "https://localhost:8080/"
        },
        "id": "Ee4DgC3QwwLD",
        "outputId": "4ddfb840-76ea-47e6-e45a-b8cea25d440d"
      },
      "execution_count": 38,
      "outputs": [
        {
          "output_type": "stream",
          "name": "stdout",
          "text": [
            "enter a number4\n",
            "The factorial of given number is6\n"
          ]
        }
      ]
    }
  ]
}