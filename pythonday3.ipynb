{
  "nbformat": 4,
  "nbformat_minor": 0,
  "metadata": {
    "colab": {
      "name": "pythonday3.ipynb",
      "provenance": []
    },
    "kernelspec": {
      "name": "python3",
      "display_name": "Python 3"
    },
    "language_info": {
      "name": "python"
    }
  },
  "cells": [
    {
      "cell_type": "code",
      "execution_count": 7,
      "metadata": {
        "id": "ekoGyQj4jZKk",
        "colab": {
          "base_uri": "https://localhost:8080/"
        },
        "outputId": "2d91bc30-52cd-4dfa-cd8d-c8b8e31c258d"
      },
      "outputs": [
        {
          "output_type": "stream",
          "name": "stdout",
          "text": [
            "for given sample student has more marks for sub6\n"
          ]
        }
      ],
      "source": [
        sample={
    'sub1':79,
    'sub2':89,
    'sub3':73,
    'sub4':76,
    'sub5':87,
    'sub6':98
}
def maximum():
  result=max(sample,key=sample.get)
  return result
print("for given sample student has more marks for "+maximum())
      ]
    }
  ]
}
