{
  "nbformat": 4,
  "nbformat_minor": 0,
  "metadata": {
    "colab": {
      "name": "pythonday3.ipynb",
      "provenance": []
    },
    "kernelspec": {
      "name": "python3",
      "display_name": "Python 3"
    },
    "language_info": {
      "name": "python"
    }
  },
  "cells": [
    {
      "cell_type": "code",
      "execution_count": 7,
      "metadata": {
        "id": "ekoGyQj4jZKk",
        "colab": {
          "base_uri": "https://localhost:8080/"
        },
        "outputId": "2d91bc30-52cd-4dfa-cd8d-c8b8e31c258d"
      },
      "outputs": [
        {
          "output_type": "stream",
          "name": "stdout",
          "text": [
            "for given sample student has more marks for sub6\n"
          ]
        }
      ],
      "source": [
        "sample={\n",
        "    'sub1':79,\n",
        "    'sub2':89,\n",
        "    'sub3':73,\n",
        "    'sub4':76,\n",
        "    'sub5':87,\n",
        "    'sub6':98\n",
        "}\n",
        "\n",
        "result=max(sample,key=sample.get)\n",
        "print(\"for given sample student has more marks for \"+result)"
      ]
    }
  ]
}