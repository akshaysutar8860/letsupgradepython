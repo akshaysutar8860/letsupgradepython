{
  "nbformat": 4,
  "nbformat_minor": 0,
  "metadata": {
    "colab": {
      "name": "pythonday1.ipynb",
      "provenance": []
    },
    "kernelspec": {
      "name": "python3",
      "display_name": "Python 3"
    },
    "language_info": {
      "name": "python"
    }
  },
  "cells": [
    {
      "cell_type": "code",
      "execution_count": 8,
      "metadata": {
        "colab": {
          "base_uri": "https://localhost:8080/"
        },
        "id": "xbhdwMpdwoOl",
        "outputId": "0ab1925c-8fb2-4dfa-f800-91066d169eb2"
      },
      "outputs": [
        {
          "output_type": "stream",
          "name": "stdout",
          "text": [
            "enter the numbers11 12 13\n",
            "the sum is 36\n"
          ]
        }
      ],
      "source": [
        "\n",
        "#enter three numbers seprated by space\n",
        "x,y,z=map(int,input('enter the numbers').split())\n",
        "print(\"the sum is\",x+y+z)"
      ]
    }
  ]
}