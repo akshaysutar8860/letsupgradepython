{
  "nbformat": 4,
  "nbformat_minor": 0,
  "metadata": {
    "colab": {
      "name": "pythonday2.ipynb",
      "provenance": []
    },
    "kernelspec": {
      "name": "python3",
      "display_name": "Python 3"
    },
    "language_info": {
      "name": "python"
    }
  },
  "cells": [
    {
      "cell_type": "code",
      "execution_count": 49,
      "metadata": {
        "id": "8FiaD3FQG_aJ"
      },
      "outputs": [],
      "source": [
        "import re\n"
      ]
    },
    {
      "cell_type": "code",
      "source": [
        "\n",
        "# creating function to get highest occuring chracter from sentence\n",
        "def findMax(sample):\n",
        "  sample=re.sub('[^a-zA-Z]','',sample)\n",
        "  letters=list(sample)\n",
        "  res = max(set(letters), key = letters.count)\n",
        "  return res\n",
        "\n"
      ],
      "metadata": {
        "id": "def1md9KHY6G"
      },
      "execution_count": 56,
      "outputs": []
    },
    {
      "cell_type": "code",
      "source": [
        "# loterry system \n",
        "print('The sentence is:hello coders ')\n",
        "sample='hello coders'\n",
        "  \n"
      ],
      "metadata": {
        "colab": {
          "base_uri": "https://localhost:8080/"
        },
        "id": "p60x25CyK6_a",
        "outputId": "3c30dbc6-817e-466d-9dd7-ba7f5ca340fe"
      },
      "execution_count": 54,
      "outputs": [
        {
          "output_type": "stream",
          "name": "stdout",
          "text": [
            "The sentence is:hello coders \n"
          ]
        }
      ]
    },
    {
      "cell_type": "code",
      "source": [
        "inp=input(\"Enter your chracter\")\n",
        "win=['h','l','o','s']\n",
        "if inp in win:\n",
        "  print(\"Congratulations! you win\")\n",
        "\n",
        "else:\n",
        "  print(\"sorry better luck next time!\")"
      ],
      "metadata": {
        "colab": {
          "base_uri": "https://localhost:8080/"
        },
        "id": "4Q12P9v9OCvw",
        "outputId": "1884eb13-1064-487b-8f3a-39d4b74ffd79"
      },
      "execution_count": 59,
      "outputs": [
        {
          "output_type": "stream",
          "name": "stdout",
          "text": [
            "Enter your chractero\n",
            "Congratulations! you win\n"
          ]
        }
      ]
    },
    {
      "cell_type": "code",
      "source": [
        "# call method \n",
        "res=findMax(sample)\n",
        "print(\"you should chooce\",res)"
      ],
      "metadata": {
        "colab": {
          "base_uri": "https://localhost:8080/"
        },
        "id": "QCaFR04oHNKI",
        "outputId": "f0b2cc00-30df-41a3-d556-334a860ee7f6"
      },
      "execution_count": 58,
      "outputs": [
        {
          "output_type": "stream",
          "name": "stdout",
          "text": [
            "you should chooce o\n"
          ]
        }
      ]
    }
  ]
}