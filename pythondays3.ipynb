{
  "nbformat": 4,
  "nbformat_minor": 0,
  "metadata": {
    "colab": {
      "name": "pythondays3.ipynb",
      "provenance": []
    },
    "kernelspec": {
      "name": "python3",
      "display_name": "Python 3"
    },
    "language_info": {
      "name": "python"
    }
  },
  "cells": [
    {
      "cell_type": "code",
      "execution_count": 9,
      "metadata": {
        "id": "ekoGyQj4jZKk",
        "colab": {
          "base_uri": "https://localhost:8080/"
        },
        "outputId": "fffcef8b-e0d0-4340-8755-bb2ab46a7e7b"
      },
      "outputs": [
        {
          "output_type": "stream",
          "name": "stdout",
          "text": [
            "for given sample student has more marks for sub6\n"
          ]
        }
      ],
      "source": [
        "sample={\n",
        "    'sub1':79,\n",
        "    'sub2':89,\n",
        "    'sub3':73,\n",
        "    'sub4':76,\n",
        "    'sub5':87,\n",
        "    'sub6':98\n",
        "}\n",
        "def maximum():\n",
        "  result=max(sample,key=sample.get)\n",
        "  return result\n",
        "print(\"for given sample student has more marks for \"+maximum())"
      ]
    }
  ]
}