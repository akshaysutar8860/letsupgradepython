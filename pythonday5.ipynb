{
  "nbformat": 4,
  "nbformat_minor": 0,
  "metadata": {
    "colab": {
      "name": "pythonday5.ipynb",
      "provenance": []
    },
    "kernelspec": {
      "name": "python3",
      "display_name": "Python 3"
    },
    "language_info": {
      "name": "python"
    }
  },
  "cells": [
    {
      "cell_type": "code",
      "execution_count": 6,
      "metadata": {
        "colab": {
          "base_uri": "https://localhost:8080/"
        },
        "id": "Qtd-ISkm16iS",
        "outputId": "0a90ce6c-637d-41c3-9136-4850054c842b"
      },
      "outputs": [
        {
          "output_type": "stream",
          "name": "stdout",
          "text": [
            "15\n",
            "30\n",
            "45\n",
            "60\n",
            "75\n",
            "90\n"
          ]
        }
      ],
      "source": [
        "#using the filter function\n",
        "k=list(range(1,100))\n",
        "def fun(x):\n",
        "  if x%3==0 and x%5==0:\n",
        "    return True\n",
        "  else:\n",
        "    return False\n",
        "\n",
        "r=filter(fun,k)\n",
        "\n",
        "for i in r:\n",
        "  print(i)\n",
        "\n"
      ]
    }
  ]
}