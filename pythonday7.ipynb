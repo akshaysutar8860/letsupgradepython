{
  "nbformat": 4,
  "nbformat_minor": 0,
  "metadata": {
    "colab": {
      "name": "pythonday7.ipynb",
      "provenance": [],
      "collapsed_sections": []
    },
    "kernelspec": {
      "name": "python3",
      "display_name": "Python 3"
    },
    "language_info": {
      "name": "python"
    }
  },
  "cells": [
    {
      "cell_type": "code",
      "execution_count": 1,
      "metadata": {
        "id": "0XoK4RKM-Pka"
      },
      "outputs": [],
      "source": [
        "import sqlite3"
      ]
    },
    {
      "cell_type": "code",
      "source": [
        "#creating the databaes connection\n",
        "\n",
        "db=sqlite3.connect(\"testing.db\")\n",
        "\n",
        "db.execute(\"drop table if exists resilts\")\n",
        "\n",
        "try:\n",
        "  db.execute(\"create table users(name varchar,mobile number,marks number,age number)\")\n",
        "\n",
        "except:\n",
        "  print(\"table already exist\")  "
      ],
      "metadata": {
        "id": "6HJOwYJj-lHi",
        "colab": {
          "base_uri": "https://localhost:8080/"
        },
        "outputId": "e63cc6e6-c707-4959-f177-3c3c94f59e38"
      },
      "execution_count": 19,
      "outputs": [
        {
          "output_type": "stream",
          "name": "stdout",
          "text": [
            "table already exist\n"
          ]
        }
      ]
    },
    {
      "cell_type": "code",
      "source": [
        "#function to add the data into databse\n",
        "def addData():\n",
        "  name=input(\"enter a name\")\n",
        "  mobile=int(input(\"enter a mobile number\"))\n",
        "  marks=int(input(\"enter a marks\"))\n",
        "  age=int(input(\"enter age of student\"))\n",
        "  query=\"insert into users(name,mobile,marks,age)values('{}','{}','{}','{}')\".format(name,mobile,marks,age)\n",
        "  db.execute(query)\n",
        "  db.commit()"
      ],
      "metadata": {
        "id": "W3NjKOX0ClQH"
      },
      "execution_count": 20,
      "outputs": []
    },
    {
      "cell_type": "code",
      "source": [
        "#function to show all data from table\n",
        "def showdata():\n",
        "  \n",
        " query=\"select *from users\"\n",
        " result=db.execute(query)\n",
        " for r in result:\n",
        "   print(r)"
      ],
      "metadata": {
        "id": "PkwczshtBhUr"
      },
      "execution_count": 21,
      "outputs": []
    },
    {
      "cell_type": "code",
      "source": [
        "#add the data\n",
        "addData()\n"
      ],
      "metadata": {
        "colab": {
          "base_uri": "https://localhost:8080/"
        },
        "id": "f-q2pidsC9BL",
        "outputId": "65e1ae1c-dc32-469b-b890-31e85aa76ae2"
      },
      "execution_count": 8,
      "outputs": [
        {
          "name": "stdout",
          "output_type": "stream",
          "text": [
            "enter a nameakshay\n",
            "enter a mobile number9595949588\n",
            "enter a marks98\n",
            "enter age of student21\n"
          ]
        }
      ]
    },
    {
      "cell_type": "code",
      "source": [
        "#show data\n",
        "showdata()"
      ],
      "metadata": {
        "colab": {
          "base_uri": "https://localhost:8080/"
        },
        "id": "6gSRWoR2Eq_Y",
        "outputId": "a89772cb-5c84-4374-de38-d669f00742ee"
      },
      "execution_count": 16,
      "outputs": [
        {
          "output_type": "stream",
          "name": "stdout",
          "text": [
            "('akshay maruti sutar', 9588623393, 70, 21)\n",
            "('sushant', 3465343565, 98, 21)\n",
            "('akshay maruti sutar', 9588623393, 70, 21)\n",
            "('akshay', 9595949588, 98, 21)\n"
          ]
        }
      ]
    },
    {
      "cell_type": "code",
      "source": [
        "#update the data\n",
        "query=\"update users set marks=98 where name='sushant'\"\n",
        "db.execute(query)\n",
        "db.commit()"
      ],
      "metadata": {
        "id": "jR2LKxxaEx0Y"
      },
      "execution_count": 18,
      "outputs": []
    }
  ]
}